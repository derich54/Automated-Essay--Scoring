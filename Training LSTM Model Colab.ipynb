{
  "nbformat": 4,
  "nbformat_minor": 0,
  "metadata": {
    "kernelspec": {
      "display_name": "Python 3",
      "language": "python",
      "name": "python3"
    },
    "language_info": {
      "codemirror_mode": {
        "name": "ipython",
        "version": 3
      },
      "file_extension": ".py",
      "mimetype": "text/x-python",
      "name": "python",
      "nbconvert_exporter": "python",
      "pygments_lexer": "ipython3",
      "version": "3.7.5"
    },
    "colab": {
      "name": "Training LSTM Model.ipynb",
      "provenance": []
    },
    "accelerator": "GPU"
  },
  "cells": [
    {
      "cell_type": "markdown",
      "metadata": {
        "id": "P6Z6n4_eOkpn"
      },
      "source": [
        "## Importing the Data"
      ]
    },
    {
      "cell_type": "code",
      "metadata": {
        "id": "L01xACN8Om7C",
        "outputId": "7a99956f-6abb-4304-b47c-e388e7797463",
        "colab": {
          "base_uri": "https://localhost:8080/"
        }
      },
      "source": [
        "!git clone https://github.com/derich54/Automated-Essay--Scoring.git"
      ],
      "execution_count": 1,
      "outputs": [
        {
          "output_type": "stream",
          "name": "stdout",
          "text": [
            "Cloning into 'Automated-Essay--Scoring'...\n",
            "remote: Enumerating objects: 235, done.\u001b[K\n",
            "remote: Counting objects: 100% (43/43), done.\u001b[K\n",
            "remote: Compressing objects: 100% (36/36), done.\u001b[K\n",
            "remote: Total 235 (delta 7), reused 35 (delta 7), pack-reused 192\u001b[K\n",
            "Receiving objects: 100% (235/235), 99.84 MiB | 25.94 MiB/s, done.\n",
            "Resolving deltas: 100% (75/75), done.\n"
          ]
        }
      ]
    },
    {
      "cell_type": "code",
      "metadata": {
        "id": "OOG892iuOkpr"
      },
      "source": [
        "# Constants\n",
        "DATASET_DIR = './Automated-Essay--Scoring/data/'\n",
        "GLOVE_DIR = './Automated-Essay--Scoring/glove.6B/'\n",
        "SAVE_DIR = './Automated-Essay--Scoring/'\n",
        "\n",
        "import os\n",
        "import pandas as pd\n",
        "\n",
        "X = pd.read_csv(os.path.join(DATASET_DIR, 'training_set_rel3.tsv'), sep='\\t', encoding='ISO-8859-1')\n",
        "y = X['domain1_score']\n",
        "X = X.dropna(axis=1)\n",
        "X = X.drop(columns=['rater1_domain1', 'rater2_domain1'])"
      ],
      "execution_count": 2,
      "outputs": []
    },
    {
      "cell_type": "code",
      "metadata": {
        "id": "QSACZ5tiOkpt",
        "outputId": "fa7cd049-b902-4795-9696-1467df425f92",
        "colab": {
          "base_uri": "https://localhost:8080/",
          "height": 204
        }
      },
      "source": [
        "X.head()"
      ],
      "execution_count": 3,
      "outputs": [
        {
          "output_type": "execute_result",
          "data": {
            "text/html": [
              "<div>\n",
              "<style scoped>\n",
              "    .dataframe tbody tr th:only-of-type {\n",
              "        vertical-align: middle;\n",
              "    }\n",
              "\n",
              "    .dataframe tbody tr th {\n",
              "        vertical-align: top;\n",
              "    }\n",
              "\n",
              "    .dataframe thead th {\n",
              "        text-align: right;\n",
              "    }\n",
              "</style>\n",
              "<table border=\"1\" class=\"dataframe\">\n",
              "  <thead>\n",
              "    <tr style=\"text-align: right;\">\n",
              "      <th></th>\n",
              "      <th>essay_id</th>\n",
              "      <th>essay_set</th>\n",
              "      <th>essay</th>\n",
              "      <th>domain1_score</th>\n",
              "    </tr>\n",
              "  </thead>\n",
              "  <tbody>\n",
              "    <tr>\n",
              "      <th>0</th>\n",
              "      <td>1</td>\n",
              "      <td>1</td>\n",
              "      <td>Dear local newspaper, I think effects computer...</td>\n",
              "      <td>8</td>\n",
              "    </tr>\n",
              "    <tr>\n",
              "      <th>1</th>\n",
              "      <td>2</td>\n",
              "      <td>1</td>\n",
              "      <td>Dear @CAPS1 @CAPS2, I believe that using compu...</td>\n",
              "      <td>9</td>\n",
              "    </tr>\n",
              "    <tr>\n",
              "      <th>2</th>\n",
              "      <td>3</td>\n",
              "      <td>1</td>\n",
              "      <td>Dear, @CAPS1 @CAPS2 @CAPS3 More and more peopl...</td>\n",
              "      <td>7</td>\n",
              "    </tr>\n",
              "    <tr>\n",
              "      <th>3</th>\n",
              "      <td>4</td>\n",
              "      <td>1</td>\n",
              "      <td>Dear Local Newspaper, @CAPS1 I have found that...</td>\n",
              "      <td>10</td>\n",
              "    </tr>\n",
              "    <tr>\n",
              "      <th>4</th>\n",
              "      <td>5</td>\n",
              "      <td>1</td>\n",
              "      <td>Dear @LOCATION1, I know having computers has a...</td>\n",
              "      <td>8</td>\n",
              "    </tr>\n",
              "  </tbody>\n",
              "</table>\n",
              "</div>"
            ],
            "text/plain": [
              "   essay_id  ...  domain1_score\n",
              "0         1  ...              8\n",
              "1         2  ...              9\n",
              "2         3  ...              7\n",
              "3         4  ...             10\n",
              "4         5  ...              8\n",
              "\n",
              "[5 rows x 4 columns]"
            ]
          },
          "metadata": {},
          "execution_count": 3
        }
      ]
    },
    {
      "cell_type": "markdown",
      "metadata": {
        "id": "6ZnhUsJ0Okpu"
      },
      "source": [
        "Minimum and Maximum Scores for each essay set."
      ]
    },
    {
      "cell_type": "code",
      "metadata": {
        "id": "CAJjZKR2Okpu"
      },
      "source": [
        "minimum_scores = [-1, 2, 1, 0, 0, 0, 0, 0, 0]\n",
        "maximum_scores = [-1, 12, 6, 3, 3, 4, 4, 30, 60]"
      ],
      "execution_count": 4,
      "outputs": []
    },
    {
      "cell_type": "markdown",
      "metadata": {
        "id": "93eFkHhtOkpv"
      },
      "source": [
        "## Preprocessing the Data"
      ]
    },
    {
      "cell_type": "markdown",
      "metadata": {
        "id": "VffeT7oBOkpv"
      },
      "source": [
        "We will preprocess all essays and convert them to feature vectors so that they can be fed into the RNN.\n",
        "\n",
        "These are all helper functions used to clean the essays."
      ]
    },
    {
      "cell_type": "code",
      "metadata": {
        "id": "D5tPjr_nOkpw"
      },
      "source": [
        "import numpy as np\n",
        "import nltk\n",
        "import re\n",
        "from nltk.corpus import stopwords\n",
        "from gensim.models import Word2Vec\n",
        "\n",
        "def essay_to_wordlist(essay_v, remove_stopwords):\n",
        "    \"\"\"Remove the tagged labels and word tokenize the sentence.\"\"\"\n",
        "    essay_v = re.sub(\"[^a-zA-Z]\", \" \", essay_v)\n",
        "    words = essay_v.lower().split()\n",
        "    if remove_stopwords:\n",
        "        stops = set(stopwords.words(\"english\"))\n",
        "        words = [w for w in words if not w in stops]\n",
        "    return (words)\n",
        "\n",
        "def essay_to_sentences(essay_v, remove_stopwords):\n",
        "    \"\"\"Sentence tokenize the essay and call essay_to_wordlist() for word tokenization.\"\"\"\n",
        "    tokenizer = nltk.data.load('tokenizers/punkt/english.pickle')\n",
        "    raw_sentences = tokenizer.tokenize(essay_v.strip())\n",
        "    sentences = []\n",
        "    for raw_sentence in raw_sentences:\n",
        "        if len(raw_sentence) > 0:\n",
        "            sentences.append(essay_to_wordlist(raw_sentence, remove_stopwords))\n",
        "    return sentences\n",
        "\n",
        "def makeFeatureVec(words, model, num_features):\n",
        "    \"\"\"Make Feature Vector from the words list of an Essay.\"\"\"\n",
        "    featureVec = np.zeros((num_features,),dtype=\"float32\")\n",
        "    num_words = 0.\n",
        "    index2word_set = set(model.wv.index2word)\n",
        "    for word in words:\n",
        "        if word in index2word_set:\n",
        "            num_words += 1\n",
        "            featureVec = np.add(featureVec,model[word])        \n",
        "    featureVec = np.divide(featureVec,num_words)\n",
        "    return featureVec\n",
        "\n",
        "def getAvgFeatureVecs(essays, model, num_features):\n",
        "    \"\"\"Main function to generate the word vectors for word2vec model.\"\"\"\n",
        "    counter = 0\n",
        "    essayFeatureVecs = np.zeros((len(essays),num_features),dtype=\"float32\")\n",
        "    for essay in essays:\n",
        "        essayFeatureVecs[counter] = makeFeatureVec(essay, model, num_features)\n",
        "        counter = counter + 1\n",
        "    return essayFeatureVecs"
      ],
      "execution_count": 5,
      "outputs": []
    },
    {
      "cell_type": "code",
      "metadata": {
        "id": "D4RySIivOkpx",
        "outputId": "5d88d56d-d341-4237-84c3-1699e6773ec3",
        "colab": {
          "base_uri": "https://localhost:8080/"
        }
      },
      "source": [
        "import nltk\n",
        "\n",
        "nltk.download('stopwords')"
      ],
      "execution_count": 6,
      "outputs": [
        {
          "output_type": "stream",
          "name": "stdout",
          "text": [
            "[nltk_data] Downloading package stopwords to /root/nltk_data...\n",
            "[nltk_data]   Unzipping corpora/stopwords.zip.\n"
          ]
        },
        {
          "output_type": "execute_result",
          "data": {
            "text/plain": [
              "True"
            ]
          },
          "metadata": {},
          "execution_count": 6
        }
      ]
    },
    {
      "cell_type": "markdown",
      "metadata": {
        "id": "2IHrI2yAOkpy"
      },
      "source": [
        "## Defining the model "
      ]
    },
    {
      "cell_type": "markdown",
      "metadata": {
        "id": "e2ujy-JsOkpy"
      },
      "source": [
        "Here we define a 2-Layer LSTM Model. \n",
        "\n",
        "Note that instead of using sigmoid activation in the output layer we will use\n",
        "Relu since we are not normalising training labels."
      ]
    },
    {
      "cell_type": "code",
      "metadata": {
        "id": "84rN1JGAOkpz"
      },
      "source": [
        "from keras.layers import Embedding, LSTM, Dense, Dropout, Lambda, Flatten\n",
        "from keras.models import Sequential, load_model, model_from_config\n",
        "import keras.backend as K\n",
        "\n",
        "def get_model():\n",
        "    \"\"\"Define the model.\"\"\"\n",
        "    model = Sequential()\n",
        "    model.add(LSTM(300, dropout=0.4, recurrent_dropout=0.4, input_shape=[1, 300], return_sequences=True))\n",
        "    model.add(LSTM(64, recurrent_dropout=0.4))\n",
        "    model.add(Dropout(0.5))\n",
        "    model.add(Dense(1, activation='relu'))\n",
        "\n",
        "    model.compile(loss='mean_squared_error', optimizer='rmsprop', metrics=['mae'])\n",
        "    model.summary()\n",
        "\n",
        "    return model"
      ],
      "execution_count": 7,
      "outputs": []
    },
    {
      "cell_type": "markdown",
      "metadata": {
        "id": "fY5_eAPkOkpz"
      },
      "source": [
        "## Training Phase"
      ]
    },
    {
      "cell_type": "markdown",
      "metadata": {
        "id": "jPMYDhjQOkp0"
      },
      "source": [
        "Now we train the model on the dataset.\n",
        "\n",
        "We will use 5-Fold Cross Validation and measure the Quadratic Weighted Kappa for each fold.\n",
        "We will then calculate Average Kappa for all the folds."
      ]
    },
    {
      "cell_type": "code",
      "metadata": {
        "id": "dwJhh6u8Okp0",
        "outputId": "63d70ee1-96db-4b9d-d908-67d9bd201cf6",
        "colab": {
          "base_uri": "https://localhost:8080/"
        }
      },
      "source": [
        "\n",
        "nltk.download('punkt')\n",
        "\n",
        "from sklearn.model_selection import KFold\n",
        "from sklearn.linear_model import LinearRegression\n",
        "from sklearn.metrics import cohen_kappa_score\n",
        "\n",
        "cv = KFold(n_splits = 5, shuffle = True)\n",
        "results = []\n",
        "y_pred_list = []\n",
        "\n",
        "count = 1\n",
        "for traincv, testcv in cv.split(X):\n",
        "    print(\"\\n--------Fold {}--------\\n\".format(count))\n",
        "    X_test, X_train, y_test, y_train = X.iloc[testcv], X.iloc[traincv], y.iloc[testcv], y.iloc[traincv]\n",
        "    \n",
        "    train_essays = X_train['essay']\n",
        "    test_essays = X_test['essay']\n",
        "    \n",
        "    sentences = []\n",
        "    \n",
        "    for essay in train_essays:\n",
        "            # Obtaining all sentences from the training essays.\n",
        "            sentences += essay_to_sentences(essay, remove_stopwords = True)\n",
        "            \n",
        "    # Initializing variables for word2vec model.\n",
        "    num_features = 300 \n",
        "    min_word_count = 40\n",
        "    num_workers = 4\n",
        "    context = 10\n",
        "    downsampling = 1e-3\n",
        "\n",
        "    print(\"Training Word2Vec Model...\")\n",
        "    model = Word2Vec(sentences, workers=num_workers, size=num_features, min_count = min_word_count, window = context, sample = downsampling)\n",
        "\n",
        "    model.init_sims(replace=True)\n",
        "    model.wv.save_word2vec_format('word2vecmodel.bin', binary=True)\n",
        "\n",
        "    clean_train_essays = []\n",
        "    \n",
        "    # Generate training and testing data word vectors.\n",
        "    for essay_v in train_essays:\n",
        "        clean_train_essays.append(essay_to_wordlist(essay_v, remove_stopwords=True))\n",
        "    trainDataVecs = getAvgFeatureVecs(clean_train_essays, model, num_features)\n",
        "    \n",
        "    clean_test_essays = []\n",
        "    for essay_v in test_essays:\n",
        "        clean_test_essays.append(essay_to_wordlist( essay_v, remove_stopwords=True ))\n",
        "    testDataVecs = getAvgFeatureVecs( clean_test_essays, model, num_features )\n",
        "    \n",
        "    trainDataVecs = np.array(trainDataVecs)\n",
        "    testDataVecs = np.array(testDataVecs)\n",
        "    # Reshaping train and test vectors to 3 dimensions. (1 represnts one timestep)\n",
        "    trainDataVecs = np.reshape(trainDataVecs, (trainDataVecs.shape[0], 1, trainDataVecs.shape[1]))\n",
        "    testDataVecs = np.reshape(testDataVecs, (testDataVecs.shape[0], 1, testDataVecs.shape[1]))\n",
        "    \n",
        "    lstm_model = get_model()\n",
        "    lstm_model.fit(trainDataVecs, y_train, batch_size=64, epochs=25)\n",
        "    #lstm_model.load_weights('./model_weights/final_lstm.h5')\n",
        "    y_pred = lstm_model.predict(testDataVecs)\n",
        "    \n",
        "    # Save any one of the 5 models.\n",
        "    if count == 5:\n",
        "         lstm_model.save('./model_weights/final_lstm.h5')\n",
        "    \n",
        "    # Round y_pred to the nearest integer.\n",
        "    y_pred = np.around(y_pred)\n",
        "    \n",
        "    # Evaluate the model on the evaluation metric. \"Quadratic mean averaged Kappa\"\n",
        "    result = cohen_kappa_score(y_test.values,y_pred,weights='quadratic')\n",
        "    print(\"Kappa Score: {}\".format(result))\n",
        "    results.append(result)\n",
        "\n",
        "    count += 1\n",
        "        "
      ],
      "execution_count": 8,
      "outputs": [
        {
          "output_type": "stream",
          "name": "stdout",
          "text": [
            "[nltk_data] Downloading package punkt to /root/nltk_data...\n",
            "[nltk_data]   Unzipping tokenizers/punkt.zip.\n",
            "\n",
            "--------Fold 1--------\n",
            "\n",
            "Training Word2Vec Model...\n"
          ]
        },
        {
          "output_type": "stream",
          "name": "stderr",
          "text": [
            "/usr/local/lib/python3.7/dist-packages/ipykernel_launcher.py:34: DeprecationWarning: Call to deprecated `__getitem__` (Method will be removed in 4.0.0, use self.wv.__getitem__() instead).\n"
          ]
        },
        {
          "output_type": "stream",
          "name": "stdout",
          "text": [
            "WARNING:tensorflow:Layer lstm will not use cuDNN kernels since it doesn't meet the criteria. It will use a generic GPU kernel as fallback when running on GPU.\n",
            "WARNING:tensorflow:Layer lstm_1 will not use cuDNN kernels since it doesn't meet the criteria. It will use a generic GPU kernel as fallback when running on GPU.\n",
            "Model: \"sequential\"\n",
            "_________________________________________________________________\n",
            "Layer (type)                 Output Shape              Param #   \n",
            "=================================================================\n",
            "lstm (LSTM)                  (None, 1, 300)            721200    \n",
            "_________________________________________________________________\n",
            "lstm_1 (LSTM)                (None, 64)                93440     \n",
            "_________________________________________________________________\n",
            "dropout (Dropout)            (None, 64)                0         \n",
            "_________________________________________________________________\n",
            "dense (Dense)                (None, 1)                 65        \n",
            "=================================================================\n",
            "Total params: 814,705\n",
            "Trainable params: 814,705\n",
            "Non-trainable params: 0\n",
            "_________________________________________________________________\n",
            "Epoch 1/25\n",
            "163/163 [==============================] - 11s 21ms/step - loss: 65.3673 - mae: 4.3713\n",
            "Epoch 2/25\n",
            "163/163 [==============================] - 3s 20ms/step - loss: 41.0434 - mae: 3.5993\n",
            "Epoch 3/25\n",
            "163/163 [==============================] - 3s 20ms/step - loss: 34.3140 - mae: 3.4590\n",
            "Epoch 4/25\n",
            "163/163 [==============================] - 3s 21ms/step - loss: 30.4823 - mae: 3.3488\n",
            "Epoch 5/25\n",
            "163/163 [==============================] - 4s 23ms/step - loss: 29.1692 - mae: 3.2206\n",
            "Epoch 6/25\n",
            "163/163 [==============================] - 4s 22ms/step - loss: 27.2937 - mae: 3.0472\n",
            "Epoch 7/25\n",
            "163/163 [==============================] - 3s 21ms/step - loss: 24.9250 - mae: 2.8521\n",
            "Epoch 8/25\n",
            "163/163 [==============================] - 3s 20ms/step - loss: 21.8129 - mae: 2.6678\n",
            "Epoch 9/25\n",
            "163/163 [==============================] - 4s 22ms/step - loss: 19.7383 - mae: 2.5114\n",
            "Epoch 10/25\n",
            "163/163 [==============================] - 3s 21ms/step - loss: 17.2786 - mae: 2.3625\n",
            "Epoch 11/25\n",
            "163/163 [==============================] - 3s 20ms/step - loss: 16.3481 - mae: 2.2936\n",
            "Epoch 12/25\n",
            "163/163 [==============================] - 4s 22ms/step - loss: 15.5984 - mae: 2.2275\n",
            "Epoch 13/25\n",
            "163/163 [==============================] - 3s 21ms/step - loss: 14.6435 - mae: 2.1503\n",
            "Epoch 14/25\n",
            "163/163 [==============================] - 3s 20ms/step - loss: 13.8285 - mae: 2.1016\n",
            "Epoch 15/25\n",
            "163/163 [==============================] - 3s 21ms/step - loss: 13.1686 - mae: 2.0605\n",
            "Epoch 16/25\n",
            "163/163 [==============================] - 3s 20ms/step - loss: 12.6894 - mae: 2.0205\n",
            "Epoch 17/25\n",
            "163/163 [==============================] - 3s 20ms/step - loss: 12.9143 - mae: 2.0110\n",
            "Epoch 18/25\n",
            "163/163 [==============================] - 3s 21ms/step - loss: 11.7942 - mae: 1.9357\n",
            "Epoch 19/25\n",
            "163/163 [==============================] - 4s 22ms/step - loss: 11.5577 - mae: 1.9143\n",
            "Epoch 20/25\n",
            "163/163 [==============================] - 3s 20ms/step - loss: 12.0888 - mae: 1.9177\n",
            "Epoch 21/25\n",
            "163/163 [==============================] - 3s 21ms/step - loss: 11.5293 - mae: 1.8838\n",
            "Epoch 22/25\n",
            "163/163 [==============================] - 3s 21ms/step - loss: 10.7812 - mae: 1.8300\n",
            "Epoch 23/25\n",
            "163/163 [==============================] - 3s 21ms/step - loss: 10.8607 - mae: 1.8285\n",
            "Epoch 24/25\n",
            "163/163 [==============================] - 4s 22ms/step - loss: 10.8842 - mae: 1.8338\n",
            "Epoch 25/25\n",
            "163/163 [==============================] - 3s 21ms/step - loss: 10.5102 - mae: 1.8087\n",
            "Kappa Score: 0.9551913453380633\n",
            "\n",
            "--------Fold 2--------\n",
            "\n",
            "Training Word2Vec Model...\n",
            "WARNING:tensorflow:Layer lstm_2 will not use cuDNN kernels since it doesn't meet the criteria. It will use a generic GPU kernel as fallback when running on GPU.\n",
            "WARNING:tensorflow:Layer lstm_3 will not use cuDNN kernels since it doesn't meet the criteria. It will use a generic GPU kernel as fallback when running on GPU.\n",
            "Model: \"sequential_1\"\n",
            "_________________________________________________________________\n",
            "Layer (type)                 Output Shape              Param #   \n",
            "=================================================================\n",
            "lstm_2 (LSTM)                (None, 1, 300)            721200    \n",
            "_________________________________________________________________\n",
            "lstm_3 (LSTM)                (None, 64)                93440     \n",
            "_________________________________________________________________\n",
            "dropout_1 (Dropout)          (None, 64)                0         \n",
            "_________________________________________________________________\n",
            "dense_1 (Dense)              (None, 1)                 65        \n",
            "=================================================================\n",
            "Total params: 814,705\n",
            "Trainable params: 814,705\n",
            "Non-trainable params: 0\n",
            "_________________________________________________________________\n",
            "Epoch 1/25\n",
            "163/163 [==============================] - 9s 22ms/step - loss: 64.3265 - mae: 4.3476\n",
            "Epoch 2/25\n",
            "163/163 [==============================] - 3s 21ms/step - loss: 40.5797 - mae: 3.6389\n",
            "Epoch 3/25\n",
            "163/163 [==============================] - 3s 21ms/step - loss: 34.9633 - mae: 3.5297\n",
            "Epoch 4/25\n",
            "163/163 [==============================] - 4s 22ms/step - loss: 32.0462 - mae: 3.4420\n",
            "Epoch 5/25\n",
            "163/163 [==============================] - 3s 21ms/step - loss: 29.6291 - mae: 3.2421\n",
            "Epoch 6/25\n",
            "163/163 [==============================] - 4s 23ms/step - loss: 28.0141 - mae: 3.0791\n",
            "Epoch 7/25\n",
            "163/163 [==============================] - 3s 21ms/step - loss: 24.5697 - mae: 2.8639\n",
            "Epoch 8/25\n",
            "163/163 [==============================] - 4s 22ms/step - loss: 20.7187 - mae: 2.6317\n",
            "Epoch 9/25\n",
            "163/163 [==============================] - 4s 23ms/step - loss: 18.3397 - mae: 2.4391\n",
            "Epoch 10/25\n",
            "163/163 [==============================] - 4s 23ms/step - loss: 16.9558 - mae: 2.3614\n",
            "Epoch 11/25\n",
            "163/163 [==============================] - 4s 22ms/step - loss: 16.0568 - mae: 2.2740\n",
            "Epoch 12/25\n",
            "163/163 [==============================] - 4s 22ms/step - loss: 15.7537 - mae: 2.2585\n",
            "Epoch 13/25\n",
            "163/163 [==============================] - 4s 23ms/step - loss: 14.0709 - mae: 2.1188\n",
            "Epoch 14/25\n",
            "163/163 [==============================] - 4s 22ms/step - loss: 14.1857 - mae: 2.1298\n",
            "Epoch 15/25\n",
            "163/163 [==============================] - 3s 20ms/step - loss: 13.1059 - mae: 2.0626\n",
            "Epoch 16/25\n",
            "163/163 [==============================] - 3s 21ms/step - loss: 12.9014 - mae: 2.0208\n",
            "Epoch 17/25\n",
            "163/163 [==============================] - 3s 21ms/step - loss: 12.4060 - mae: 1.9816\n",
            "Epoch 18/25\n",
            "163/163 [==============================] - 3s 20ms/step - loss: 12.4873 - mae: 1.9551\n",
            "Epoch 19/25\n",
            "163/163 [==============================] - 3s 21ms/step - loss: 11.8983 - mae: 1.9280\n",
            "Epoch 20/25\n",
            "163/163 [==============================] - 3s 21ms/step - loss: 11.6075 - mae: 1.8953\n",
            "Epoch 21/25\n",
            "163/163 [==============================] - 4s 22ms/step - loss: 11.3544 - mae: 1.8664\n",
            "Epoch 22/25\n",
            "163/163 [==============================] - 4s 22ms/step - loss: 11.3589 - mae: 1.8474\n",
            "Epoch 23/25\n",
            "163/163 [==============================] - 3s 21ms/step - loss: 11.0451 - mae: 1.8360\n",
            "Epoch 24/25\n",
            "163/163 [==============================] - 3s 21ms/step - loss: 10.5357 - mae: 1.8152\n",
            "Epoch 25/25\n",
            "163/163 [==============================] - 3s 20ms/step - loss: 11.1501 - mae: 1.8159\n",
            "Kappa Score: 0.9439836771179314\n",
            "\n",
            "--------Fold 3--------\n",
            "\n",
            "Training Word2Vec Model...\n",
            "WARNING:tensorflow:Layer lstm_4 will not use cuDNN kernels since it doesn't meet the criteria. It will use a generic GPU kernel as fallback when running on GPU.\n",
            "WARNING:tensorflow:Layer lstm_5 will not use cuDNN kernels since it doesn't meet the criteria. It will use a generic GPU kernel as fallback when running on GPU.\n",
            "Model: \"sequential_2\"\n",
            "_________________________________________________________________\n",
            "Layer (type)                 Output Shape              Param #   \n",
            "=================================================================\n",
            "lstm_4 (LSTM)                (None, 1, 300)            721200    \n",
            "_________________________________________________________________\n",
            "lstm_5 (LSTM)                (None, 64)                93440     \n",
            "_________________________________________________________________\n",
            "dropout_2 (Dropout)          (None, 64)                0         \n",
            "_________________________________________________________________\n",
            "dense_2 (Dense)              (None, 1)                 65        \n",
            "=================================================================\n",
            "Total params: 814,705\n",
            "Trainable params: 814,705\n",
            "Non-trainable params: 0\n",
            "_________________________________________________________________\n",
            "Epoch 1/25\n",
            "163/163 [==============================] - 8s 21ms/step - loss: 63.9692 - mae: 4.4103\n",
            "Epoch 2/25\n",
            "163/163 [==============================] - 3s 21ms/step - loss: 40.7505 - mae: 3.6285\n",
            "Epoch 3/25\n",
            "163/163 [==============================] - 3s 21ms/step - loss: 33.8746 - mae: 3.5093\n",
            "Epoch 4/25\n",
            "163/163 [==============================] - 3s 21ms/step - loss: 30.6676 - mae: 3.4209\n",
            "Epoch 5/25\n",
            "163/163 [==============================] - 4s 22ms/step - loss: 29.9628 - mae: 3.2983\n",
            "Epoch 6/25\n",
            "163/163 [==============================] - 4s 22ms/step - loss: 26.8807 - mae: 3.0608\n",
            "Epoch 7/25\n",
            "163/163 [==============================] - 4s 24ms/step - loss: 25.5520 - mae: 2.9287\n",
            "Epoch 8/25\n",
            "163/163 [==============================] - 3s 21ms/step - loss: 22.0977 - mae: 2.7147\n",
            "Epoch 9/25\n",
            "163/163 [==============================] - 4s 23ms/step - loss: 19.3476 - mae: 2.5502\n",
            "Epoch 10/25\n",
            "163/163 [==============================] - 3s 21ms/step - loss: 17.4327 - mae: 2.3941\n",
            "Epoch 11/25\n",
            "163/163 [==============================] - 3s 21ms/step - loss: 16.6023 - mae: 2.3249\n",
            "Epoch 12/25\n",
            "163/163 [==============================] - 4s 22ms/step - loss: 14.9339 - mae: 2.2181\n",
            "Epoch 13/25\n",
            "163/163 [==============================] - 4s 22ms/step - loss: 14.7435 - mae: 2.1798\n",
            "Epoch 14/25\n",
            "163/163 [==============================] - 3s 20ms/step - loss: 13.8528 - mae: 2.1131\n",
            "Epoch 15/25\n",
            "163/163 [==============================] - 3s 21ms/step - loss: 13.3427 - mae: 2.0608\n",
            "Epoch 16/25\n",
            "163/163 [==============================] - 4s 22ms/step - loss: 12.6701 - mae: 2.0170\n",
            "Epoch 17/25\n",
            "163/163 [==============================] - 4s 22ms/step - loss: 12.6465 - mae: 2.0073\n",
            "Epoch 18/25\n",
            "163/163 [==============================] - 4s 22ms/step - loss: 11.7029 - mae: 1.9539\n",
            "Epoch 19/25\n",
            "163/163 [==============================] - 3s 21ms/step - loss: 11.9256 - mae: 1.9326\n",
            "Epoch 20/25\n",
            "163/163 [==============================] - 3s 21ms/step - loss: 11.2740 - mae: 1.8955\n",
            "Epoch 21/25\n",
            "163/163 [==============================] - 4s 23ms/step - loss: 11.7493 - mae: 1.9134\n",
            "Epoch 22/25\n",
            "163/163 [==============================] - 3s 21ms/step - loss: 11.3355 - mae: 1.8866\n",
            "Epoch 23/25\n",
            "163/163 [==============================] - 3s 21ms/step - loss: 10.8377 - mae: 1.8461\n",
            "Epoch 24/25\n",
            "163/163 [==============================] - 3s 20ms/step - loss: 10.5070 - mae: 1.8160\n",
            "Epoch 25/25\n",
            "163/163 [==============================] - 4s 22ms/step - loss: 10.3794 - mae: 1.8104\n",
            "Kappa Score: 0.9498588338439679\n",
            "\n",
            "--------Fold 4--------\n",
            "\n",
            "Training Word2Vec Model...\n",
            "WARNING:tensorflow:Layer lstm_6 will not use cuDNN kernels since it doesn't meet the criteria. It will use a generic GPU kernel as fallback when running on GPU.\n",
            "WARNING:tensorflow:Layer lstm_7 will not use cuDNN kernels since it doesn't meet the criteria. It will use a generic GPU kernel as fallback when running on GPU.\n",
            "Model: \"sequential_3\"\n",
            "_________________________________________________________________\n",
            "Layer (type)                 Output Shape              Param #   \n",
            "=================================================================\n",
            "lstm_6 (LSTM)                (None, 1, 300)            721200    \n",
            "_________________________________________________________________\n",
            "lstm_7 (LSTM)                (None, 64)                93440     \n",
            "_________________________________________________________________\n",
            "dropout_3 (Dropout)          (None, 64)                0         \n",
            "_________________________________________________________________\n",
            "dense_3 (Dense)              (None, 1)                 65        \n",
            "=================================================================\n",
            "Total params: 814,705\n",
            "Trainable params: 814,705\n",
            "Non-trainable params: 0\n",
            "_________________________________________________________________\n",
            "Epoch 1/25\n",
            "163/163 [==============================] - 8s 21ms/step - loss: 64.1491 - mae: 4.3569\n",
            "Epoch 2/25\n",
            "163/163 [==============================] - 3s 21ms/step - loss: 40.8015 - mae: 3.6308\n",
            "Epoch 3/25\n",
            "163/163 [==============================] - 3s 21ms/step - loss: 33.9032 - mae: 3.4958\n",
            "Epoch 4/25\n",
            "163/163 [==============================] - 4s 22ms/step - loss: 31.0615 - mae: 3.4004\n",
            "Epoch 5/25\n",
            "163/163 [==============================] - 3s 20ms/step - loss: 29.4317 - mae: 3.2396\n",
            "Epoch 6/25\n",
            "163/163 [==============================] - 3s 21ms/step - loss: 26.8840 - mae: 3.0573\n",
            "Epoch 7/25\n",
            "163/163 [==============================] - 3s 20ms/step - loss: 25.1197 - mae: 2.8773\n",
            "Epoch 8/25\n",
            "163/163 [==============================] - 3s 20ms/step - loss: 21.3598 - mae: 2.6400\n",
            "Epoch 9/25\n",
            "163/163 [==============================] - 3s 20ms/step - loss: 19.3106 - mae: 2.4900\n",
            "Epoch 10/25\n",
            "163/163 [==============================] - 3s 21ms/step - loss: 17.3159 - mae: 2.3688\n",
            "Epoch 11/25\n",
            "163/163 [==============================] - 4s 22ms/step - loss: 15.7971 - mae: 2.2617\n",
            "Epoch 12/25\n",
            "163/163 [==============================] - 4s 23ms/step - loss: 15.3120 - mae: 2.2185\n",
            "Epoch 13/25\n",
            "163/163 [==============================] - 3s 21ms/step - loss: 14.6423 - mae: 2.1568\n",
            "Epoch 14/25\n",
            "163/163 [==============================] - 3s 21ms/step - loss: 14.2500 - mae: 2.1119\n",
            "Epoch 15/25\n",
            "163/163 [==============================] - 3s 21ms/step - loss: 13.0852 - mae: 2.0425\n",
            "Epoch 16/25\n",
            "163/163 [==============================] - 3s 21ms/step - loss: 12.9076 - mae: 2.0027\n",
            "Epoch 17/25\n",
            "163/163 [==============================] - 4s 22ms/step - loss: 12.7980 - mae: 1.9894\n",
            "Epoch 18/25\n",
            "163/163 [==============================] - 3s 21ms/step - loss: 12.2458 - mae: 1.9425\n",
            "Epoch 19/25\n",
            "163/163 [==============================] - 4s 22ms/step - loss: 11.9847 - mae: 1.9303\n",
            "Epoch 20/25\n",
            "163/163 [==============================] - 3s 20ms/step - loss: 12.0835 - mae: 1.9028\n",
            "Epoch 21/25\n",
            "163/163 [==============================] - 3s 20ms/step - loss: 11.9764 - mae: 1.8979\n",
            "Epoch 22/25\n",
            "163/163 [==============================] - 3s 20ms/step - loss: 11.3324 - mae: 1.8565\n",
            "Epoch 23/25\n",
            "163/163 [==============================] - 3s 21ms/step - loss: 11.0425 - mae: 1.8481\n",
            "Epoch 24/25\n",
            "163/163 [==============================] - 3s 20ms/step - loss: 11.5300 - mae: 1.8570\n",
            "Epoch 25/25\n",
            "163/163 [==============================] - 3s 21ms/step - loss: 11.0914 - mae: 1.8203\n",
            "Kappa Score: 0.956326502876231\n",
            "\n",
            "--------Fold 5--------\n",
            "\n",
            "Training Word2Vec Model...\n",
            "WARNING:tensorflow:Layer lstm_8 will not use cuDNN kernels since it doesn't meet the criteria. It will use a generic GPU kernel as fallback when running on GPU.\n",
            "WARNING:tensorflow:Layer lstm_9 will not use cuDNN kernels since it doesn't meet the criteria. It will use a generic GPU kernel as fallback when running on GPU.\n",
            "Model: \"sequential_4\"\n",
            "_________________________________________________________________\n",
            "Layer (type)                 Output Shape              Param #   \n",
            "=================================================================\n",
            "lstm_8 (LSTM)                (None, 1, 300)            721200    \n",
            "_________________________________________________________________\n",
            "lstm_9 (LSTM)                (None, 64)                93440     \n",
            "_________________________________________________________________\n",
            "dropout_4 (Dropout)          (None, 64)                0         \n",
            "_________________________________________________________________\n",
            "dense_4 (Dense)              (None, 1)                 65        \n",
            "=================================================================\n",
            "Total params: 814,705\n",
            "Trainable params: 814,705\n",
            "Non-trainable params: 0\n",
            "_________________________________________________________________\n",
            "Epoch 1/25\n",
            "163/163 [==============================] - 8s 21ms/step - loss: 64.6996 - mae: 4.4039\n",
            "Epoch 2/25\n",
            "163/163 [==============================] - 3s 20ms/step - loss: 41.1637 - mae: 3.6341\n",
            "Epoch 3/25\n",
            "163/163 [==============================] - 3s 20ms/step - loss: 34.1344 - mae: 3.4993\n",
            "Epoch 4/25\n",
            "163/163 [==============================] - 3s 21ms/step - loss: 30.2593 - mae: 3.3625\n",
            "Epoch 5/25\n",
            "163/163 [==============================] - 3s 21ms/step - loss: 28.6403 - mae: 3.2069\n",
            "Epoch 6/25\n",
            "163/163 [==============================] - 3s 21ms/step - loss: 26.1248 - mae: 3.0146\n",
            "Epoch 7/25\n",
            "163/163 [==============================] - 3s 21ms/step - loss: 23.9692 - mae: 2.8524\n",
            "Epoch 8/25\n",
            "163/163 [==============================] - 4s 22ms/step - loss: 20.9838 - mae: 2.6288\n",
            "Epoch 9/25\n",
            "163/163 [==============================] - 3s 21ms/step - loss: 18.5208 - mae: 2.4640\n",
            "Epoch 10/25\n",
            "163/163 [==============================] - 3s 21ms/step - loss: 17.4005 - mae: 2.3700\n",
            "Epoch 11/25\n",
            "163/163 [==============================] - 3s 20ms/step - loss: 16.0252 - mae: 2.2708\n",
            "Epoch 12/25\n",
            "163/163 [==============================] - 3s 20ms/step - loss: 15.3374 - mae: 2.2121\n",
            "Epoch 13/25\n",
            "163/163 [==============================] - 3s 21ms/step - loss: 15.1388 - mae: 2.1996\n",
            "Epoch 14/25\n",
            "163/163 [==============================] - 3s 20ms/step - loss: 14.1832 - mae: 2.1060\n",
            "Epoch 15/25\n",
            "163/163 [==============================] - 3s 21ms/step - loss: 13.5108 - mae: 2.0677\n",
            "Epoch 16/25\n",
            "163/163 [==============================] - 3s 21ms/step - loss: 13.4924 - mae: 2.0440\n",
            "Epoch 17/25\n",
            "163/163 [==============================] - 3s 21ms/step - loss: 12.5738 - mae: 1.9906\n",
            "Epoch 18/25\n",
            "163/163 [==============================] - 4s 23ms/step - loss: 12.5559 - mae: 1.9727\n",
            "Epoch 19/25\n",
            "163/163 [==============================] - 3s 20ms/step - loss: 12.5052 - mae: 1.9591\n",
            "Epoch 20/25\n",
            "163/163 [==============================] - 3s 20ms/step - loss: 12.5165 - mae: 1.9645\n",
            "Epoch 21/25\n",
            "163/163 [==============================] - 3s 20ms/step - loss: 11.3253 - mae: 1.8808\n",
            "Epoch 22/25\n",
            "163/163 [==============================] - 3s 21ms/step - loss: 11.5213 - mae: 1.8870\n",
            "Epoch 23/25\n",
            "163/163 [==============================] - 3s 20ms/step - loss: 10.7331 - mae: 1.8356\n",
            "Epoch 24/25\n",
            "163/163 [==============================] - 3s 21ms/step - loss: 10.4392 - mae: 1.8141\n",
            "Epoch 25/25\n",
            "163/163 [==============================] - 3s 21ms/step - loss: 10.6808 - mae: 1.8231\n",
            "Kappa Score: 0.9445910132319542\n"
          ]
        }
      ]
    },
    {
      "cell_type": "code",
      "metadata": {
        "id": "vCZ8LvvHOkp1",
        "outputId": "5cbb3772-2847-43ed-f409-a410682f1a94",
        "colab": {
          "base_uri": "https://localhost:8080/"
        }
      },
      "source": [
        "print(\"Average Kappa score after a 5-fold cross validation: \",np.around(np.array(results).mean(),decimals=4))"
      ],
      "execution_count": 9,
      "outputs": [
        {
          "output_type": "stream",
          "name": "stdout",
          "text": [
            "Average Kappa score after a 5-fold cross validation:  0.95\n"
          ]
        }
      ]
    },
    {
      "cell_type": "code",
      "metadata": {
        "id": "-Ja0vnE0Okp1"
      },
      "source": [
        ""
      ],
      "execution_count": 9,
      "outputs": []
    }
  ]
}